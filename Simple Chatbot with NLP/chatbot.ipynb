{
 "cells": [
  {
   "cell_type": "markdown",
   "id": "b7a59db9",
   "metadata": {},
   "source": [
    "#### NLP Chatbot"
   ]
  },
  {
   "cell_type": "code",
   "execution_count": 10,
   "id": "9c878733",
   "metadata": {},
   "outputs": [],
   "source": [
    "# Import necessary libraries\n",
    "from transformers import pipeline\n",
    "from transformers.utils import logging\n",
    "\n",
    "# Suppress warnings from the transformers library\n",
    "logging.set_verbosity_error()"
   ]
  },
  {
   "cell_type": "code",
   "execution_count": 16,
   "id": "5db349b1",
   "metadata": {},
   "outputs": [
    {
     "name": "stderr",
     "output_type": "stream",
     "text": [
      "Xet Storage is enabled for this repo, but the 'hf_xet' package is not installed. Falling back to regular HTTP download. For better performance, install the package with: `pip install huggingface_hub[hf_xet]` or `pip install hf_xet`\n"
     ]
    },
    {
     "name": "stdout",
     "output_type": "stream",
     "text": [
      "WARNING:tensorflow:From c:\\Users\\thara\\AppData\\Local\\Programs\\Python\\Python310\\lib\\site-packages\\tf_keras\\src\\backend.py:873: The name tf.get_default_graph is deprecated. Please use tf.compat.v1.get_default_graph instead.\n",
      "\n"
     ]
    }
   ],
   "source": [
    "# Initialize the conversational pipeline with a pre-trained model\n",
    "chatbot = pipeline(\"text2text-generation\", model=\"facebook/blenderbot-400M-distill\")"
   ]
  },
  {
   "cell_type": "code",
   "execution_count": 19,
   "id": "80b4489c",
   "metadata": {},
   "outputs": [
    {
     "name": "stdout",
     "output_type": "stream",
     "text": [
      "User: Hello! How are you?\n",
      "[{'generated_text': \" I'm doing well, thank you. How are you? Do you have any hobbies?\"}]\n"
     ]
    }
   ],
   "source": [
    "# User input\n",
    "user_input = \"Hello! How are you?\"\n",
    "print(\"User:\", user_input)\n",
    "\n",
    "# Create a conversation object with the user input\n",
    "response = chatbot(user_input, max_length=100)\n",
    "print(response)"
   ]
  },
  {
   "cell_type": "code",
   "execution_count": 20,
   "id": "593d591c",
   "metadata": {},
   "outputs": [
    {
     "name": "stdout",
     "output_type": "stream",
     "text": [
      "User: What is the weather today?\n",
      "[{'generated_text': ' It is a little chilly, but not too cold.  I am looking forward to it.'}]\n"
     ]
    }
   ],
   "source": [
    "# User input\n",
    "user_input = \"What is the weather today?\"\n",
    "print(\"User:\", user_input)\n",
    "\n",
    "# Create a conversation object with the user input\n",
    "response = chatbot(user_input, max_length=100)\n",
    "print(response)"
   ]
  },
  {
   "cell_type": "markdown",
   "id": "5467b1da",
   "metadata": {},
   "source": [
    "Include prior conversations in the LLM's context"
   ]
  },
  {
   "cell_type": "code",
   "execution_count": 23,
   "id": "30eb1c84",
   "metadata": {},
   "outputs": [
    {
     "name": "stdout",
     "output_type": "stream",
     "text": [
      " I enjoy playing video games as well. What kind of video games do you like to play?\n"
     ]
    }
   ],
   "source": [
    "chatbot = pipeline(\"text2text-generation\", model=\"facebook/blenderbot-400M-distill\")\n",
    "\n",
    "# Manually build conversation history\n",
    "conversation = \"\"\"User: Hello! How are you?\n",
    "Bot: I'm doing well, thank you. How are you? Do you have any hobbies?\n",
    "User: Yes, I am playing video games. What about you?\"\"\"\n",
    "\n",
    "response = chatbot(conversation, max_length=200)\n",
    "\n",
    "# Get generated response\n",
    "print(response[0]['generated_text'])"
   ]
  }
 ],
 "metadata": {
  "kernelspec": {
   "display_name": "Python 3",
   "language": "python",
   "name": "python3"
  },
  "language_info": {
   "codemirror_mode": {
    "name": "ipython",
    "version": 3
   },
   "file_extension": ".py",
   "mimetype": "text/x-python",
   "name": "python",
   "nbconvert_exporter": "python",
   "pygments_lexer": "ipython3",
   "version": "3.10.11"
  }
 },
 "nbformat": 4,
 "nbformat_minor": 5
}
