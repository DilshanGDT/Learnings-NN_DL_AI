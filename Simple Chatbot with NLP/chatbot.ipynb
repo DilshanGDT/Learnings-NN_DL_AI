{
 "cells": [
  {
   "cell_type": "markdown",
   "id": "b7a59db9",
   "metadata": {},
   "source": [
    "NLP Chatbot"
   ]
  },
  {
   "cell_type": "code",
   "execution_count": 10,
   "id": "9c878733",
   "metadata": {},
   "outputs": [],
   "source": [
    "# Import necessary libraries\n",
    "from transformers import pipeline\n",
    "from transformers.utils import logging\n",
    "\n",
    "# Suppress warnings from the transformers library\n",
    "logging.set_verbosity_error()"
   ]
  },
  {
   "cell_type": "code",
   "execution_count": 16,
   "id": "5db349b1",
   "metadata": {},
   "outputs": [
    {
     "name": "stderr",
     "output_type": "stream",
     "text": [
      "Xet Storage is enabled for this repo, but the 'hf_xet' package is not installed. Falling back to regular HTTP download. For better performance, install the package with: `pip install huggingface_hub[hf_xet]` or `pip install hf_xet`\n"
     ]
    },
    {
     "name": "stdout",
     "output_type": "stream",
     "text": [
      "WARNING:tensorflow:From c:\\Users\\thara\\AppData\\Local\\Programs\\Python\\Python310\\lib\\site-packages\\tf_keras\\src\\backend.py:873: The name tf.get_default_graph is deprecated. Please use tf.compat.v1.get_default_graph instead.\n",
      "\n"
     ]
    }
   ],
   "source": [
    "# Initialize the conversational pipeline with a pre-trained model\n",
    "chatbot = pipeline(\"text2text-generation\", model=\"facebook/blenderbot-400M-distill\")"
   ]
  },
  {
   "cell_type": "code",
   "execution_count": 18,
   "id": "80b4489c",
   "metadata": {},
   "outputs": [
    {
     "name": "stdout",
     "output_type": "stream",
     "text": [
      "User: Hello! How are you?\n",
      "[{'generated_text': ' I am doing well. How are you doing? I hope you are having a great day.'}]\n"
     ]
    }
   ],
   "source": [
    "# User input\n",
    "user_input = \"Hello! How are you?\"\n",
    "print(\"User:\", user_input)\n",
    "\n",
    "# Create a conversation object with the user input\n",
    "response = chatbot(\"Hello, how are you?\", max_length=100)\n",
    "print(response)"
   ]
  }
 ],
 "metadata": {
  "kernelspec": {
   "display_name": "Python 3",
   "language": "python",
   "name": "python3"
  },
  "language_info": {
   "codemirror_mode": {
    "name": "ipython",
    "version": 3
   },
   "file_extension": ".py",
   "mimetype": "text/x-python",
   "name": "python",
   "nbconvert_exporter": "python",
   "pygments_lexer": "ipython3",
   "version": "3.10.11"
  }
 },
 "nbformat": 4,
 "nbformat_minor": 5
}
